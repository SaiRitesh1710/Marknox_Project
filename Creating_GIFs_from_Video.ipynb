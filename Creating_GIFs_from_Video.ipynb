{
  "nbformat": 4,
  "nbformat_minor": 0,
  "metadata": {
    "colab": {
      "provenance": [],
      "authorship_tag": "ABX9TyOXfzsbCW4HpfgivaELTEUY",
      "include_colab_link": true
    },
    "kernelspec": {
      "name": "python3",
      "display_name": "Python 3"
    },
    "language_info": {
      "name": "python"
    }
  },
  "cells": [
    {
      "cell_type": "markdown",
      "metadata": {
        "id": "view-in-github",
        "colab_type": "text"
      },
      "source": [
        "<a href=\"https://colab.research.google.com/github/SaiRitesh1710/Marknox_Project/blob/main/Creating_GIFs_from_Video.ipynb\" target=\"_parent\"><img src=\"https://colab.research.google.com/assets/colab-badge.svg\" alt=\"Open In Colab\"/></a>"
      ]
    },
    {
      "cell_type": "code",
      "execution_count": 47,
      "metadata": {
        "colab": {
          "base_uri": "https://localhost:8080/"
        },
        "id": "4tvpDvaUD2-m",
        "outputId": "15758e8f-3958-4e49-da9b-946c3d98e1f5"
      },
      "outputs": [
        {
          "output_type": "stream",
          "name": "stdout",
          "text": [
            "Requirement already satisfied: moviepy in /usr/local/lib/python3.10/dist-packages (1.0.3)\n",
            "Requirement already satisfied: decorator<5.0,>=4.0.2 in /usr/local/lib/python3.10/dist-packages (from moviepy) (4.4.2)\n",
            "Requirement already satisfied: tqdm<5.0,>=4.11.2 in /usr/local/lib/python3.10/dist-packages (from moviepy) (4.66.6)\n",
            "Requirement already satisfied: requests<3.0,>=2.8.1 in /usr/local/lib/python3.10/dist-packages (from moviepy) (2.32.3)\n",
            "Requirement already satisfied: proglog<=1.0.0 in /usr/local/lib/python3.10/dist-packages (from moviepy) (0.1.10)\n",
            "Requirement already satisfied: numpy>=1.17.3 in /usr/local/lib/python3.10/dist-packages (from moviepy) (1.26.4)\n",
            "Requirement already satisfied: imageio<3.0,>=2.5 in /usr/local/lib/python3.10/dist-packages (from moviepy) (2.36.0)\n",
            "Requirement already satisfied: imageio-ffmpeg>=0.2.0 in /usr/local/lib/python3.10/dist-packages (from moviepy) (0.5.1)\n",
            "Requirement already satisfied: pillow>=8.3.2 in /usr/local/lib/python3.10/dist-packages (from imageio<3.0,>=2.5->moviepy) (11.0.0)\n",
            "Requirement already satisfied: setuptools in /usr/local/lib/python3.10/dist-packages (from imageio-ffmpeg>=0.2.0->moviepy) (75.1.0)\n",
            "Requirement already satisfied: charset-normalizer<4,>=2 in /usr/local/lib/python3.10/dist-packages (from requests<3.0,>=2.8.1->moviepy) (3.4.0)\n",
            "Requirement already satisfied: idna<4,>=2.5 in /usr/local/lib/python3.10/dist-packages (from requests<3.0,>=2.8.1->moviepy) (3.10)\n",
            "Requirement already satisfied: urllib3<3,>=1.21.1 in /usr/local/lib/python3.10/dist-packages (from requests<3.0,>=2.8.1->moviepy) (2.2.3)\n",
            "Requirement already satisfied: certifi>=2017.4.17 in /usr/local/lib/python3.10/dist-packages (from requests<3.0,>=2.8.1->moviepy) (2024.8.30)\n"
          ]
        }
      ],
      "source": [
        "pip install moviepy"
      ]
    },
    {
      "cell_type": "code",
      "source": [
        "from moviepy.editor import VideoFileClip\n",
        "import os\n",
        "\n",
        "def create_multiple_gifs_from_video(\n",
        "    video_path,\n",
        "    output_directory,\n",
        "    time_intervals,\n",
        "    resize=None,\n",
        "    fps=15,\n",
        "    optimize=True\n",
        "):\n",
        "    \"\"\"\n",
        "    Create multiple GIFs from a video based on specified time intervals.\n",
        "\n",
        "    Parameters:\n",
        "        video_path (str): Path to the input video file.\n",
        "        output_directory (str): Directory to save the output GIFs.\n",
        "        time_intervals (list of tuples): List of (start_time, end_time) tuples for each GIF.\n",
        "        resize (float): Resize factor (e.g., 0.5 for half size). Default is None (original size).\n",
        "        fps (int): Frames per second for the GIF. Default is 15.\n",
        "        optimize (bool): If True, optimizes GIF file size. Default is True.\n",
        "    \"\"\"\n",
        "    try:\n",
        "        # Ensure the output directory exists\n",
        "        os.makedirs(output_directory, exist_ok=True)\n",
        "\n",
        "        # Process each time interval\n",
        "        for i, (start_time, end_time) in enumerate(time_intervals):\n",
        "            gif_output_path = os.path.join(output_directory, f\"gif_{i+1}.gif\")\n",
        "            print(f\"Creating GIF {i+1}: {start_time}s to {end_time}s -> {gif_output_path}\")\n",
        "\n",
        "            # Load the video and extract the segment\n",
        "            video_clip = VideoFileClip(video_path).subclip(start_time, end_time)\n",
        "\n",
        "            # Resize if specified\n",
        "            if resize:\n",
        "                video_clip = video_clip.resize(resize)\n",
        "\n",
        "            # Write the GIF\n",
        "            video_clip.write_gif(gif_output_path, fps=fps, program='ffmpeg' if optimize else 'imageio')\n",
        "\n",
        "        print(f\"✅ All GIFs created successfully in {output_directory}\")\n",
        "    except Exception as e:\n",
        "        print(f\"❌ Error: {e}\")\n",
        "\n",
        "# Example Usage\n",
        "if __name__ == \"__main__\":\n",
        "    video_path = \"/content/Creating Automatic GIFs from Videos.mp4\"       # Input video file\n",
        "    output_directory = \"output_gifs\"       # Directory for saving GIFs\n",
        "\n",
        "    # Define 13 time intervals (start_time, end_time)\n",
        "    time_intervals = [\n",
        "        (55, 57), (62, 64), (65, 67), (68, 70), (71, 73), (74, 76), (78, 80), (85.7, 87.5), (88, 89), (90, 91), (92, 93), (94, 95), (96, 100)\n",
        "    ]\n",
        "\n",
        "    resize_factor = 0.5                   # Resize to half size\n",
        "    gif_fps = 10                          # Frames per second for GIFs\n",
        "\n",
        "    create_multiple_gifs_from_video(\n",
        "        video_path,\n",
        "        output_directory,\n",
        "        time_intervals,\n",
        "        resize=resize_factor,\n",
        "        fps=gif_fps\n",
        "    )\n"
      ],
      "metadata": {
        "colab": {
          "base_uri": "https://localhost:8080/"
        },
        "id": "3bW1JunSD9Fz",
        "outputId": "493e09cc-8df3-4f29-bab4-37aee1b2bd67"
      },
      "execution_count": 48,
      "outputs": [
        {
          "output_type": "stream",
          "name": "stdout",
          "text": [
            "Creating GIF 1: 55s to 57s -> output_gifs/gif_1.gif\n",
            "MoviePy - Building file  output_gifs/gif_1.gif\n",
            "MoviePy - - Generating GIF frames.\n"
          ]
        },
        {
          "output_type": "stream",
          "name": "stderr",
          "text": []
        },
        {
          "output_type": "stream",
          "name": "stdout",
          "text": [
            "MoviePy - - File ready: output_gifs/gif_1.gif.\n",
            "Creating GIF 2: 62s to 64s -> output_gifs/gif_2.gif\n",
            "MoviePy - Building file  output_gifs/gif_2.gif\n",
            "MoviePy - - Generating GIF frames.\n"
          ]
        },
        {
          "output_type": "stream",
          "name": "stderr",
          "text": []
        },
        {
          "output_type": "stream",
          "name": "stdout",
          "text": [
            "MoviePy - - File ready: output_gifs/gif_2.gif.\n",
            "Creating GIF 3: 65s to 67s -> output_gifs/gif_3.gif\n",
            "MoviePy - Building file  output_gifs/gif_3.gif\n",
            "MoviePy - - Generating GIF frames.\n"
          ]
        },
        {
          "output_type": "stream",
          "name": "stderr",
          "text": []
        },
        {
          "output_type": "stream",
          "name": "stdout",
          "text": [
            "MoviePy - - File ready: output_gifs/gif_3.gif.\n",
            "Creating GIF 4: 68s to 70s -> output_gifs/gif_4.gif\n",
            "MoviePy - Building file  output_gifs/gif_4.gif\n",
            "MoviePy - - Generating GIF frames.\n"
          ]
        },
        {
          "output_type": "stream",
          "name": "stderr",
          "text": []
        },
        {
          "output_type": "stream",
          "name": "stdout",
          "text": [
            "MoviePy - - File ready: output_gifs/gif_4.gif.\n",
            "Creating GIF 5: 71s to 73s -> output_gifs/gif_5.gif\n",
            "MoviePy - Building file  output_gifs/gif_5.gif\n",
            "MoviePy - - Generating GIF frames.\n"
          ]
        },
        {
          "output_type": "stream",
          "name": "stderr",
          "text": []
        },
        {
          "output_type": "stream",
          "name": "stdout",
          "text": [
            "MoviePy - - File ready: output_gifs/gif_5.gif.\n",
            "Creating GIF 6: 74s to 76s -> output_gifs/gif_6.gif\n",
            "MoviePy - Building file  output_gifs/gif_6.gif\n",
            "MoviePy - - Generating GIF frames.\n"
          ]
        },
        {
          "output_type": "stream",
          "name": "stderr",
          "text": []
        },
        {
          "output_type": "stream",
          "name": "stdout",
          "text": [
            "MoviePy - - File ready: output_gifs/gif_6.gif.\n",
            "Creating GIF 7: 78s to 80s -> output_gifs/gif_7.gif\n",
            "MoviePy - Building file  output_gifs/gif_7.gif\n",
            "MoviePy - - Generating GIF frames.\n"
          ]
        },
        {
          "output_type": "stream",
          "name": "stderr",
          "text": []
        },
        {
          "output_type": "stream",
          "name": "stdout",
          "text": [
            "MoviePy - - File ready: output_gifs/gif_7.gif.\n",
            "Creating GIF 8: 85.7s to 87.5s -> output_gifs/gif_8.gif\n",
            "MoviePy - Building file  output_gifs/gif_8.gif\n",
            "MoviePy - - Generating GIF frames.\n"
          ]
        },
        {
          "output_type": "stream",
          "name": "stderr",
          "text": []
        },
        {
          "output_type": "stream",
          "name": "stdout",
          "text": [
            "MoviePy - - File ready: output_gifs/gif_8.gif.\n",
            "Creating GIF 9: 88s to 89s -> output_gifs/gif_9.gif\n",
            "MoviePy - Building file  output_gifs/gif_9.gif\n",
            "MoviePy - - Generating GIF frames.\n"
          ]
        },
        {
          "output_type": "stream",
          "name": "stderr",
          "text": []
        },
        {
          "output_type": "stream",
          "name": "stdout",
          "text": [
            "MoviePy - - File ready: output_gifs/gif_9.gif.\n",
            "Creating GIF 10: 90s to 91s -> output_gifs/gif_10.gif\n",
            "MoviePy - Building file  output_gifs/gif_10.gif\n",
            "MoviePy - - Generating GIF frames.\n"
          ]
        },
        {
          "output_type": "stream",
          "name": "stderr",
          "text": []
        },
        {
          "output_type": "stream",
          "name": "stdout",
          "text": [
            "MoviePy - - File ready: output_gifs/gif_10.gif.\n",
            "Creating GIF 11: 92s to 93s -> output_gifs/gif_11.gif\n",
            "MoviePy - Building file  output_gifs/gif_11.gif\n",
            "MoviePy - - Generating GIF frames.\n"
          ]
        },
        {
          "output_type": "stream",
          "name": "stderr",
          "text": []
        },
        {
          "output_type": "stream",
          "name": "stdout",
          "text": [
            "MoviePy - - File ready: output_gifs/gif_11.gif.\n",
            "Creating GIF 12: 94s to 95s -> output_gifs/gif_12.gif\n",
            "MoviePy - Building file  output_gifs/gif_12.gif\n",
            "MoviePy - - Generating GIF frames.\n"
          ]
        },
        {
          "output_type": "stream",
          "name": "stderr",
          "text": []
        },
        {
          "output_type": "stream",
          "name": "stdout",
          "text": [
            "MoviePy - - File ready: output_gifs/gif_12.gif.\n",
            "Creating GIF 13: 96s to 100s -> output_gifs/gif_13.gif\n",
            "MoviePy - Building file  output_gifs/gif_13.gif\n",
            "MoviePy - - Generating GIF frames.\n"
          ]
        },
        {
          "output_type": "stream",
          "name": "stderr",
          "text": []
        },
        {
          "output_type": "stream",
          "name": "stdout",
          "text": [
            "MoviePy - - File ready: output_gifs/gif_13.gif.\n",
            "✅ All GIFs created successfully in output_gifs\n"
          ]
        }
      ]
    }
  ]
}